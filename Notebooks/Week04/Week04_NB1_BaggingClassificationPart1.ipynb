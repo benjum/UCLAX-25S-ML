{
 "cells": [
  {
   "cell_type": "markdown",
   "id": "805e508b",
   "metadata": {},
   "source": [
    "# Voting Classification with Moons Dataset"
   ]
  },
  {
   "cell_type": "code",
   "execution_count": null,
   "id": "026e801b-a442-4cb8-9ef7-0ba0513fbdb1",
   "metadata": {},
   "outputs": [],
   "source": [
    "import seaborn as sns\n",
    "import matplotlib.pyplot as plt\n",
    "\n",
    "from sklearn.datasets import make_moons\n",
    "\n",
    "from sklearn.model_selection import train_test_split\n",
    "from sklearn.metrics import accuracy_score\n",
    "from sklearn.inspection import DecisionBoundaryDisplay\n",
    "\n",
    "from sklearn.neighbors import KNeighborsClassifier\n",
    "from sklearn.linear_model import LogisticRegression\n",
    "from sklearn.tree import DecisionTreeClassifier\n",
    "from sklearn.ensemble import VotingClassifier\n",
    "from sklearn.ensemble import BaggingClassifier\n",
    "from sklearn.ensemble import RandomForestClassifier"
   ]
  },
  {
   "cell_type": "code",
   "execution_count": null,
   "id": "aa15b166-77af-4cad-8241-58b802e9d596",
   "metadata": {},
   "outputs": [],
   "source": [
    "x, y = make_moons(n_samples=400, noise=0.3, random_state=42)"
   ]
  },
  {
   "cell_type": "code",
   "execution_count": null,
   "id": "e80565f5-40ae-4a0b-af4f-a000653e6aec",
   "metadata": {},
   "outputs": [],
   "source": [
    "sns.scatterplot(x=x[:,0], \n",
    "                y=x[:,1],\n",
    "                hue=y)"
   ]
  },
  {
   "cell_type": "code",
   "execution_count": null,
   "id": "8e0f436e-ee05-4afc-8bcb-f3bff82c376d",
   "metadata": {},
   "outputs": [],
   "source": [
    "x_train, x_test, y_train, y_test = train_test_split(x, \n",
    "                                                    y, \n",
    "                                                    random_state=0)"
   ]
  },
  {
   "cell_type": "markdown",
   "id": "2546f25d",
   "metadata": {},
   "source": [
    "## VotingClassifier"
   ]
  },
  {
   "cell_type": "code",
   "execution_count": null,
   "id": "5ec07482-ecd9-4007-b15c-26fe827d4a03",
   "metadata": {},
   "outputs": [],
   "source": [
    "knn_clf = KNeighborsClassifier()\n",
    "logreg_clf = LogisticRegression()\n",
    "tree_clf = DecisionTreeClassifier()"
   ]
  },
  {
   "cell_type": "code",
   "execution_count": null,
   "id": "8fda7347-c72b-4cae-8115-ad3765d68709",
   "metadata": {},
   "outputs": [],
   "source": [
    "voting_clf = VotingClassifier(\n",
    "    estimators=[('lr', logreg_clf), ('knn', knn_clf), ('tr', tree_clf)],\n",
    "    voting='hard')"
   ]
  },
  {
   "cell_type": "code",
   "execution_count": null,
   "id": "190be6a0-3894-45bb-bc5c-51e2b620a66f",
   "metadata": {},
   "outputs": [],
   "source": [
    "voting_clf.fit(x_train, y_train)"
   ]
  },
  {
   "cell_type": "code",
   "execution_count": null,
   "id": "338d9024-ff29-4fa5-ad95-6bf407043b1b",
   "metadata": {},
   "outputs": [],
   "source": [
    "classifiers = [knn_clf, logreg_clf, tree_clf, voting_clf]"
   ]
  },
  {
   "cell_type": "code",
   "execution_count": null,
   "id": "095e1bc8-b6a6-4d23-9c78-a9c6717664ea",
   "metadata": {},
   "outputs": [],
   "source": [
    "for clf in classifiers:\n",
    "    clf.fit(x_train, y_train)\n",
    "    y_pred = clf.predict(x_test)\n",
    "    print(clf.__class__.__name__, accuracy_score(y_test, y_pred))"
   ]
  },
  {
   "cell_type": "code",
   "execution_count": null,
   "id": "f074e64a-ee77-4d11-9c91-74ac1a468f87",
   "metadata": {},
   "outputs": [],
   "source": [
    "votingsoft_clf = VotingClassifier(\n",
    "    estimators=[('lr', logreg_clf), ('knn', knn_clf), ('tr', tree_clf)],\n",
    "    voting='soft')\n",
    "\n",
    "votingsoft_clf.fit(x_train, y_train)\n",
    "\n",
    "classifiers = [knn_clf, logreg_clf, tree_clf, voting_clf, votingsoft_clf]\n",
    "\n",
    "for clf in classifiers:\n",
    "    clf.fit(x_train, y_train)\n",
    "    y_pred = clf.predict(x_test)\n",
    "    print(clf.__class__.__name__, accuracy_score(y_test, y_pred))"
   ]
  },
  {
   "cell_type": "code",
   "execution_count": null,
   "id": "b3300fef",
   "metadata": {},
   "outputs": [],
   "source": [
    "import ipywidgets"
   ]
  },
  {
   "cell_type": "code",
   "execution_count": null,
   "id": "154ed141",
   "metadata": {},
   "outputs": [],
   "source": [
    "# plot the decision boundary with the data\n",
    "\n",
    "def bndplot(clf):\n",
    "    DecisionBoundaryDisplay.from_estimator(clf, \n",
    "                                           x, \n",
    "                                           response_method=\"predict\",\n",
    "                                           cmap=\"RdBu\", \n",
    "                                           alpha=0.5\n",
    "    )\n",
    "\n",
    "    sns.scatterplot(x=x[:,0], \n",
    "                    y=x[:,1],\n",
    "                    hue=y,\n",
    "                    palette=['red','green'])\n",
    "\n",
    "    plt.legend(bbox_to_anchor=(1.05, 1), loc='upper left')\n",
    "    \n",
    "ipywidgets.interactive(bndplot,clf=classifiers)"
   ]
  },
  {
   "cell_type": "markdown",
   "id": "dbbe2c24-be71-4fa9-b586-e11ee2ed0233",
   "metadata": {},
   "source": [
    "---\n",
    ".... to be continued ...."
   ]
  }
 ],
 "metadata": {
  "kernelspec": {
   "display_name": "Python 3 (ipykernel)",
   "language": "python",
   "name": "python3"
  },
  "language_info": {
   "codemirror_mode": {
    "name": "ipython",
    "version": 3
   },
   "file_extension": ".py",
   "mimetype": "text/x-python",
   "name": "python",
   "nbconvert_exporter": "python",
   "pygments_lexer": "ipython3",
   "version": "3.10.13"
  }
 },
 "nbformat": 4,
 "nbformat_minor": 5
}
