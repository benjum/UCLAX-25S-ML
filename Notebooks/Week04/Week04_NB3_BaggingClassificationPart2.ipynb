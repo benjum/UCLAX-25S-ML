{
 "cells": [
  {
   "cell_type": "markdown",
   "id": "805e508b",
   "metadata": {},
   "source": [
    "# Voting Classification & Bagging with Moons Dataset"
   ]
  },
  {
   "cell_type": "code",
   "execution_count": null,
   "id": "026e801b-a442-4cb8-9ef7-0ba0513fbdb1",
   "metadata": {},
   "outputs": [],
   "source": [
    "import seaborn as sns\n",
    "import matplotlib.pyplot as plt\n",
    "\n",
    "from sklearn.datasets import make_moons\n",
    "\n",
    "from sklearn.model_selection import train_test_split\n",
    "from sklearn.metrics import accuracy_score\n",
    "from sklearn.inspection import DecisionBoundaryDisplay\n",
    "\n",
    "from sklearn.neighbors import KNeighborsClassifier\n",
    "from sklearn.linear_model import LogisticRegression\n",
    "from sklearn.tree import DecisionTreeClassifier\n",
    "from sklearn.ensemble import VotingClassifier\n",
    "from sklearn.ensemble import BaggingClassifier\n",
    "from sklearn.ensemble import RandomForestClassifier"
   ]
  },
  {
   "cell_type": "code",
   "execution_count": null,
   "id": "aa15b166-77af-4cad-8241-58b802e9d596",
   "metadata": {},
   "outputs": [],
   "source": [
    "x, y = make_moons(n_samples=400, noise=0.3, random_state=42)"
   ]
  },
  {
   "cell_type": "code",
   "execution_count": null,
   "id": "e80565f5-40ae-4a0b-af4f-a000653e6aec",
   "metadata": {},
   "outputs": [],
   "source": [
    "sns.scatterplot(x=x[:,0], \n",
    "                y=x[:,1],\n",
    "                hue=y)"
   ]
  },
  {
   "cell_type": "code",
   "execution_count": null,
   "id": "8e0f436e-ee05-4afc-8bcb-f3bff82c376d",
   "metadata": {},
   "outputs": [],
   "source": [
    "x_train, x_test, y_train, y_test = train_test_split(x, \n",
    "                                                    y, \n",
    "                                                    random_state=0)"
   ]
  },
  {
   "cell_type": "markdown",
   "id": "2546f25d",
   "metadata": {},
   "source": [
    "## VotingClassifier"
   ]
  },
  {
   "cell_type": "code",
   "execution_count": null,
   "id": "5ec07482-ecd9-4007-b15c-26fe827d4a03",
   "metadata": {},
   "outputs": [],
   "source": [
    "knn_clf = KNeighborsClassifier()\n",
    "logreg_clf = LogisticRegression()\n",
    "tree_clf = DecisionTreeClassifier()"
   ]
  },
  {
   "cell_type": "code",
   "execution_count": null,
   "id": "8fda7347-c72b-4cae-8115-ad3765d68709",
   "metadata": {},
   "outputs": [],
   "source": [
    "voting_clf = VotingClassifier(\n",
    "    estimators=[('lr', logreg_clf), ('knn', knn_clf), ('tr', tree_clf)],\n",
    "    voting='hard')"
   ]
  },
  {
   "cell_type": "code",
   "execution_count": null,
   "id": "190be6a0-3894-45bb-bc5c-51e2b620a66f",
   "metadata": {},
   "outputs": [],
   "source": [
    "voting_clf.fit(x_train, y_train)"
   ]
  },
  {
   "cell_type": "code",
   "execution_count": null,
   "id": "338d9024-ff29-4fa5-ad95-6bf407043b1b",
   "metadata": {},
   "outputs": [],
   "source": [
    "classifiers = [knn_clf, logreg_clf, tree_clf, voting_clf]"
   ]
  },
  {
   "cell_type": "code",
   "execution_count": null,
   "id": "095e1bc8-b6a6-4d23-9c78-a9c6717664ea",
   "metadata": {},
   "outputs": [],
   "source": [
    "for clf in classifiers:\n",
    "    clf.fit(x_train, y_train)\n",
    "    y_pred = clf.predict(x_test)\n",
    "    print(clf.__class__.__name__, accuracy_score(y_test, y_pred))"
   ]
  },
  {
   "cell_type": "code",
   "execution_count": null,
   "id": "f074e64a-ee77-4d11-9c91-74ac1a468f87",
   "metadata": {},
   "outputs": [],
   "source": [
    "votingsoft_clf = VotingClassifier(\n",
    "    estimators=[('lr', logreg_clf), ('knn', knn_clf), ('tr', tree_clf)],\n",
    "    voting='soft')\n",
    "\n",
    "votingsoft_clf.fit(x_train, y_train)\n",
    "\n",
    "classifiers = [knn_clf, logreg_clf, tree_clf, voting_clf, votingsoft_clf]\n",
    "\n",
    "for clf in classifiers:\n",
    "    clf.fit(x_train, y_train)\n",
    "    y_pred = clf.predict(x_test)\n",
    "    print(clf.__class__.__name__, accuracy_score(y_test, y_pred))"
   ]
  },
  {
   "cell_type": "code",
   "execution_count": null,
   "id": "b3300fef",
   "metadata": {},
   "outputs": [],
   "source": [
    "import ipywidgets"
   ]
  },
  {
   "cell_type": "code",
   "execution_count": null,
   "id": "154ed141",
   "metadata": {},
   "outputs": [],
   "source": [
    "# plot the decision boundary with the data\n",
    "\n",
    "def bndplot(clf):\n",
    "    DecisionBoundaryDisplay.from_estimator(clf, \n",
    "                                           x, \n",
    "                                           response_method=\"predict\",\n",
    "                                           cmap=\"RdBu\", \n",
    "                                           alpha=0.5\n",
    "    )\n",
    "\n",
    "    sns.scatterplot(x=x[:,0], \n",
    "                    y=x[:,1],\n",
    "                    hue=y,\n",
    "                    palette=['red','green'])\n",
    "\n",
    "    plt.legend(bbox_to_anchor=(1.05, 1), loc='upper left')\n",
    "    \n",
    "ipywidgets.interactive(bndplot,clf=classifiers)"
   ]
  },
  {
   "cell_type": "markdown",
   "id": "70334dfb-3647-45e8-8407-3128559f3637",
   "metadata": {},
   "source": [
    "# Bagging"
   ]
  },
  {
   "cell_type": "code",
   "execution_count": null,
   "id": "807e5105-e803-4db7-98c7-04997312197d",
   "metadata": {},
   "outputs": [],
   "source": [
    "bag_clf = BaggingClassifier(DecisionTreeClassifier(), \n",
    "                            n_estimators=500,\n",
    "                            max_samples=100, \n",
    "                            bootstrap=True, \n",
    "                            n_jobs=-1)\n",
    "\n",
    "bag_clf.fit(x_train, y_train)\n",
    "\n",
    "y_pred = bag_clf.predict(x_test)\n",
    "print(bag_clf.__class__.__name__, accuracy_score(y_test, y_pred))"
   ]
  },
  {
   "cell_type": "code",
   "execution_count": null,
   "id": "7356430d-14f3-4a4c-93c7-0a0fdaf6c03d",
   "metadata": {},
   "outputs": [],
   "source": [
    "# plot the decision boundary with the data\n",
    "\n",
    "DecisionBoundaryDisplay.from_estimator(bag_clf, \n",
    "                                       x, \n",
    "                                       response_method=\"predict\",\n",
    "                                       cmap=\"RdBu\", \n",
    "                                       alpha=0.5\n",
    ")\n",
    "\n",
    "sns.scatterplot(x=x[:,0], \n",
    "                y=x[:,1],\n",
    "                hue=y,\n",
    "                palette=['red','green'])\n",
    "\n",
    "plt.legend(bbox_to_anchor=(1.05, 1), loc='upper left')"
   ]
  },
  {
   "cell_type": "code",
   "execution_count": null,
   "id": "c93f6922-fd67-4440-a1b7-e16644e214e4",
   "metadata": {},
   "outputs": [],
   "source": [
    "bag_clf = BaggingClassifier(DecisionTreeClassifier(), \n",
    "                            n_estimators=500,\n",
    "                            bootstrap=True, \n",
    "                            n_jobs=-1, \n",
    "                            oob_score=True)\n",
    "\n",
    "bag_clf.fit(x_train, y_train)\n",
    "bag_clf.oob_score_"
   ]
  },
  {
   "cell_type": "code",
   "execution_count": null,
   "id": "544b61e5-4768-47b2-a20e-2d64454221ed",
   "metadata": {},
   "outputs": [],
   "source": [
    "y_pred = bag_clf.predict(x_test)\n",
    "accuracy_score(y_test, y_pred)"
   ]
  },
  {
   "cell_type": "markdown",
   "id": "44aa6c1a-894e-46ad-b1cf-b62afd861ad2",
   "metadata": {},
   "source": [
    "## Random Forest"
   ]
  },
  {
   "cell_type": "code",
   "execution_count": null,
   "id": "61f65af5-345c-4e8c-adfa-b07aa66182f4",
   "metadata": {},
   "outputs": [],
   "source": [
    "rnd_clf = RandomForestClassifier(n_estimators=500, \n",
    "                                 max_leaf_nodes=16, \n",
    "                                 n_jobs=-1,\n",
    "                                 random_state=42)\n",
    "\n",
    "rnd_clf.fit(x_train, y_train)\n",
    "\n",
    "y_pred_rf = rnd_clf.predict(x_test)\n",
    "accuracy_score(y_test, y_pred_rf)"
   ]
  },
  {
   "cell_type": "code",
   "execution_count": null,
   "id": "562f49e4-f81b-4e6e-baa1-acc7c3fdb52f",
   "metadata": {},
   "outputs": [],
   "source": [
    "# equivalent bagging classifier\n",
    "\n",
    "bag_clf = BaggingClassifier(DecisionTreeClassifier(max_leaf_nodes=16),\n",
    "                            n_estimators=500, \n",
    "                            max_samples=1.0, \n",
    "                            bootstrap=True, \n",
    "                            n_jobs=-1,\n",
    "                            random_state=42)"
   ]
  },
  {
   "cell_type": "code",
   "execution_count": null,
   "id": "476f6b00-f517-4178-8f5c-bd32b6cfd0a7",
   "metadata": {},
   "outputs": [],
   "source": [
    "bag_clf.fit(x_train, y_train)\n",
    "y_pred_rf = bag_clf.predict(x_test)\n",
    "accuracy_score(y_test, y_pred_rf)"
   ]
  },
  {
   "cell_type": "code",
   "execution_count": null,
   "id": "aa6a288b-4baf-4cd4-a203-00b9eaff90e4",
   "metadata": {},
   "outputs": [],
   "source": [
    "classifiers = [knn_clf, logreg_clf, tree_clf, voting_clf, votingsoft_clf, rnd_clf]"
   ]
  },
  {
   "cell_type": "code",
   "execution_count": null,
   "id": "5f6d210b-daff-4c6f-9418-075d9627e50a",
   "metadata": {},
   "outputs": [],
   "source": [
    "for clf in classifiers:\n",
    "    clf.fit(x_train, y_train)\n",
    "    y_pred = clf.predict(x_test)\n",
    "    print(clf.__class__.__name__, accuracy_score(y_test, y_pred))"
   ]
  },
  {
   "cell_type": "code",
   "execution_count": null,
   "id": "8c53ea09-4dfc-4dd0-a072-c82287eb1255",
   "metadata": {},
   "outputs": [],
   "source": [
    "# plot the decision boundary with the data\n",
    "\n",
    "DecisionBoundaryDisplay.from_estimator(rnd_clf, \n",
    "                                       x, \n",
    "                                       response_method=\"predict\",\n",
    "                                       cmap=\"RdBu\", \n",
    "                                       alpha=0.5\n",
    ")\n",
    "\n",
    "sns.scatterplot(x=x[:,0], \n",
    "                y=x[:,1],\n",
    "                hue=y,\n",
    "                palette=['red','green'])\n",
    "\n",
    "plt.legend(bbox_to_anchor=(1.05, 1), loc='upper left')"
   ]
  }
 ],
 "metadata": {
  "kernelspec": {
   "display_name": "Python 3 (ipykernel)",
   "language": "python",
   "name": "python3"
  },
  "language_info": {
   "codemirror_mode": {
    "name": "ipython",
    "version": 3
   },
   "file_extension": ".py",
   "mimetype": "text/x-python",
   "name": "python",
   "nbconvert_exporter": "python",
   "pygments_lexer": "ipython3",
   "version": "3.10.13"
  }
 },
 "nbformat": 4,
 "nbformat_minor": 5
}
